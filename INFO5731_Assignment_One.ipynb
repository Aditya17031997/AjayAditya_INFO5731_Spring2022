{
  "cells": [
    {
      "cell_type": "markdown",
      "metadata": {
        "id": "view-in-github",
        "colab_type": "text"
      },
      "source": [
        "<a href=\"https://colab.research.google.com/github/Aditya17031997/AjayAditya_INFO5731_Spring2022/blob/main/INFO5731_Assignment_One.ipynb\" target=\"_parent\"><img src=\"https://colab.research.google.com/assets/colab-badge.svg\" alt=\"Open In Colab\"/></a>"
      ]
    },
    {
      "cell_type": "markdown",
      "metadata": {
        "id": "Ryk8D1Q4Wsrp"
      },
      "source": [
        "# **INFO5731 Assignment One**"
      ]
    },
    {
      "cell_type": "markdown",
      "metadata": {
        "id": "90_NR8c5XGWc"
      },
      "source": [
        "# Question 1\n",
        "\n",
        "(20 points). Write a Python program to generate 12 random numbers between 1 and 100. Sort the list of numbers in ascending order and print it out. Sort the list of numbers in descending order and print it out. Calculate the average for the group and print it out."
      ]
    },
    {
      "cell_type": "code",
      "execution_count": 17,
      "metadata": {
        "colab": {
          "base_uri": "https://localhost:8080/"
        },
        "id": "5QX6bJjGWXY9",
        "outputId": "b472828b-7433-4f13-daf2-c553532c1252"
      },
      "outputs": [
        {
          "output_type": "stream",
          "name": "stdout",
          "text": [
            "Ascending order:  [10 20 24 25 33 39 45 49 71 71 76 83]\n",
            "Descending order:  [83 76 71 71 49 45 39 33 25 24 20 10]\n",
            "Average of the group is:  45.5\n"
          ]
        }
      ],
      "source": [
        "from numpy.lib.function_base import average\n",
        "import numpy as np \n",
        "import pandas as pd\n",
        "from numpy import random\n",
        "rd1 = np.random.randint(low=1, high=100, size=(12,))\n",
        "rd1.sort()\n",
        "print(\"Ascending order: \", rd1)\n",
        "print(\"Descending order: \", rd1[::-1])\n",
        "print(\"Average of the group is: \",average(rd1))\n"
      ]
    },
    {
      "cell_type": "markdown",
      "metadata": {
        "id": "1F_PZdH9Sh49"
      },
      "source": [
        "# Question 2\n",
        "(25 points). Write a program that will do the following string formatting tasks:\n",
        "\n",
        "(1) Ask the user to enter two sentences.\n",
        "\n",
        "(2) Make each sentence into a list. Each element in the list should correspond to a word in the sentence. For example, if the sentence is \"Alas! Am I alive? This is my first python program\", the program should print out ['Alas, '!', 'Am', 'I', 'alive, '?', 'This', 'is', 'my', 'first', 'python', 'program'].\n",
        "\n",
        "(3) Compare the two sentences. Print out a list of words that occur in both sentences.\n",
        "\n",
        "(4) Remove any punctuation from the sentence and print it back out. It should remove at least the following characters, but it can remove more: period(“.”), comma (“,”), semicolon (“;”), and colon (“:”)\n",
        "\n",
        "(5) Count the number of vowels in the sentences. Print out each vowel and the number of times it appears in the sentences, such as: a:2, e:1, i:0, etc"
      ]
    },
    {
      "cell_type": "code",
      "execution_count": 39,
      "metadata": {
        "colab": {
          "base_uri": "https://localhost:8080/"
        },
        "id": "Y0oOSlsOS0cq",
        "outputId": "97057fe6-d99c-4226-c6c5-8f65ca82ddbe"
      },
      "outputs": [
        {
          "output_type": "stream",
          "name": "stdout",
          "text": [
            "Enter sentence1: hi how are you, man\n",
            "Enter sentence2: man ji jat hi, kl muan\n",
            "splitting into the words: ['man', 'ji', 'jat', 'hi,', 'kl', 'muan']\n",
            "splitting into the words: ['hi', 'how', 'are', 'you,', 'man']\n",
            "Common words: ['man']\n",
            "senetnce1 without the punctuation: hi how are you man\n",
            "senetnce2 without the punctuation: man ji jat hi kl muan\n",
            "sentence2 vowel count is: {'a': 2, 'e': 1, 'i': 1, 'o': 2, 'u': 1}\n",
            "senetnce1 vowel count is: {'a': 3, 'e': 0, 'i': 2, 'o': 0, 'u': 1}\n"
          ]
        }
      ],
      "source": [
        "val1 = input(\"Enter sentence1: \")\n",
        "val2=input(\"Enter sentence2: \")\n",
        "import string\n",
        "list3=[]\n",
        "words=val1.split()\n",
        "words2=val2.split()\n",
        "for x in words:\n",
        "  if x in words2:\n",
        "      list3.append(x)\n",
        "new_string1 = val1.translate(str.maketrans('', '', string.punctuation))\n",
        "new_string2 = val2.translate(str.maketrans('', '', string.punctuation))\n",
        "print(\"splitting into the words:\",words2)\n",
        "print(\"splitting into the words:\",words)\n",
        "print(\"Common words:\",list3)\n",
        "print(\"senetnce1 without the punctuation:\",new_string1)\n",
        "print(\"senetnce2 without the punctuation:\",new_string2)\n",
        "vowels = 'aeiou'\n",
        "ip_str = val1.casefold()\n",
        "vowel_counts1 = {}.fromkeys(vowels,0)\n",
        "for char in ip_str:\n",
        "   if char in vowel_counts1:\n",
        "       vowel_counts1[char] += 1\n",
        "ip_str1 = val2.casefold()\n",
        "vowel_counts2 = {}.fromkeys(vowels,0)\n",
        "for char in ip_str1:\n",
        "   if char in vowel_counts2:\n",
        "       vowel_counts2[char] += 1\n",
        "print(\"sentence2 vowel count is:\",vowel_counts1)\n",
        "print(\"senetnce1 vowel count is:\",vowel_counts2)"
      ]
    },
    {
      "cell_type": "markdown",
      "metadata": {
        "id": "CmFoI4jDS9nx"
      },
      "source": [
        "# Question 3 \n",
        "\n",
        "(15 points). The formula that describes the volume V of a sphere with radius r is the following:\n",
        "\n",
        "$ V=\\frac{4}{3}\\ast\\ \\pi\\ast\\ r^3 $\n",
        "\n",
        "Write a program to calculate the value of V when r is in the range of 1–10. Output the result in the following format:\n",
        "\n",
        "\tr\tV\n",
        "\t1\t…\n",
        "\t2\t…\n",
        "\t3\t…\n"
      ]
    },
    {
      "cell_type": "code",
      "execution_count": 42,
      "metadata": {
        "colab": {
          "base_uri": "https://localhost:8080/"
        },
        "id": "pEyqeioAT95b",
        "outputId": "c01022ee-414b-4625-e636-f2c128d9ae08"
      },
      "outputs": [
        {
          "output_type": "stream",
          "name": "stdout",
          "text": [
            "Radius value:  1\n",
            "PI value is :  3.141592653589793\n",
            "total value of the sphere: 2.356194490192345\n",
            "Radius value:  2\n",
            "PI value is :  3.141592653589793\n",
            "total value of the sphere: 18.84955592153876\n",
            "Radius value:  3\n",
            "PI value is :  3.141592653589793\n",
            "total value of the sphere: 63.61725123519331\n",
            "Radius value:  4\n",
            "PI value is :  3.141592653589793\n",
            "total value of the sphere: 150.79644737231007\n",
            "Radius value:  5\n",
            "PI value is :  3.141592653589793\n",
            "total value of the sphere: 294.5243112740431\n",
            "Radius value:  6\n",
            "PI value is :  3.141592653589793\n",
            "total value of the sphere: 508.93800988154646\n",
            "Radius value:  7\n",
            "PI value is :  3.141592653589793\n",
            "total value of the sphere: 808.1747101359744\n",
            "Radius value:  8\n",
            "PI value is :  3.141592653589793\n",
            "total value of the sphere: 1206.3715789784806\n",
            "Radius value:  9\n",
            "PI value is :  3.141592653589793\n",
            "total value of the sphere: 1717.6657833502195\n"
          ]
        }
      ],
      "source": [
        "import numpy as np \n",
        "import pandas as pd\n",
        "from numpy import random\n",
        "import math\n",
        "#r= np.random.randint(low=1, high=10, size=(10,))\n",
        "x=range(1,10)\n",
        "for r in x:\n",
        "  print(\"Radius value: \", r)\n",
        "  print(\"PI value is : \", math.pi)\n",
        "  voulme=3/4*  math.pi * r*r*r\n",
        "  print(\"total value of the sphere:\",voulme)\n",
        "\n"
      ]
    },
    {
      "cell_type": "code",
      "execution_count": null,
      "metadata": {
        "id": "pMCr3l8tnu0j"
      },
      "outputs": [],
      "source": [
        ""
      ]
    },
    {
      "cell_type": "markdown",
      "metadata": {
        "id": "z3tBE7E-Xn5X"
      },
      "source": [
        "# Question 4\n",
        "\n",
        "(40 points). In the field of Data Science, data is often formatted as a comma-delimited (CSV) file, where each line in a file corresponds to a field's value. Refer to Chapter 9 (p. 106) for more information on comma-delimited files. To answer this question, you will need to download the file [Assignment1_denton_housing.csv](https://raw.githubusercontent.com/unt-iialab/info5731-spring2022/main/assignments/Assignment1_denton_housing.csv) included with this assignment. The file [Assignment1_denton_housing.csv](https://raw.githubusercontent.com/unt-iialab/info5731-spring2022/main/assignments/Assignment1_denton_housing.csv) contains statistics about housing in the city of Denton from 2008 to 2014. Write a program to implement the following questions.\n",
        "\n",
        "(1) (10 pts) Calculate the difference in the number of Occupied Housing Units from year to year and print it. The difference must be calculated for the consecutive years such as 2008-2009, 2009-2010 etc. Finally, print the values in the ascending order.\n",
        "\n",
        "(2) (10 pts) For all the years, calculate the percentage of housing units which are vacant an occupied. Print the results in the following format:\n",
        "\n",
        "Year Vacant Housing Units Occupied Housing Units\n",
        "\n",
        "    2008  30%   70%                          \n",
        "\t2009 ----- -----\n",
        "\t2010 ----- -----\n",
        "    2011 ----- -----\n",
        "\t2012 ----- -----\n",
        "    2013 ----- -----\n",
        "\t2014 ----- -----\n",
        "  \n",
        "  \n",
        "\n",
        "(3) (10 pts) Calculate and print the valued and years in which the highest number of housing units were vacant and occupied. Print the results in the following format:  \n",
        "\n",
        "                              Year\tValue\n",
        "\tVacant Housing Units\t  -----   -----\n",
        "\tOccupied Housing Units\t-----   -----\n",
        "\n",
        "(4) (10 pts) Calculate the harmonic mean of the total housing units and print it out. You can find the information about harmonic mean here: https://ncalculators.com/statistics/harmonic-mean-calculator.htm"
      ]
    },
    {
      "cell_type": "code",
      "execution_count": 49,
      "metadata": {
        "colab": {
          "base_uri": "https://localhost:8080/"
        },
        "id": "lqGYuHBhcsRH",
        "outputId": "a1ac5168-59dd-4e5f-98db-d7aefe0b4693"
      },
      "outputs": [
        {
          "output_type": "stream",
          "name": "stdout",
          "text": [
            "2008 - 2009 : 795\n",
            "2009 - 2010 : 5091\n",
            "2010 - 2011 : 303\n",
            "2011 - 2012 : 1404\n",
            "2012 - 2013 : 1565\n",
            "2013 - 2014 : 2622\n",
            "Values in ascending order: [303, 795, 1404, 1565, 2622, 5091]\n",
            "year :-  vacant%   occupied%\n",
            "2008 :- 11  \t\t89\n",
            "2009 :- 9  \t\t91\n",
            "2010 :- 8  \t\t92\n",
            "2011 :- 9  \t\t91\n",
            "2012 :- 7  \t\t93\n",
            "2013 :- 9  \t\t91\n",
            "2014 :- 6  \t\t94\n",
            "                        Year     Value\n",
            " Vacant Housing Units:   2014     46295\n",
            " Occupied Housing Units: 2008     4483\n",
            "harmonic mean of the total number of housing units 44398.28543969185\n"
          ]
        }
      ],
      "source": [
        "# Your code here\n",
        "masterDictionary = {}\n",
        "num = 0\n",
        "with open('Assignment1_denton_housingAssign.txt', 'r') as a:\n",
        "    for line in a:\n",
        "        if num == 0:\n",
        "            num += 1\n",
        "            continue\n",
        "        else:\n",
        "            year, field, value = line.split(',')\n",
        "            if year not in masterDictionary.keys():\n",
        "                masterDictionary[year] = [(field, value)]\n",
        "            else:\n",
        "                masterDictionary[year].append((field, value))\n",
        "years = [int(x) for x in masterDictionary.keys()]\n",
        "years.sort()\n",
        "# %% Calculating year to year difference\n",
        "values = []\n",
        "for i in range(len(years)):\n",
        "    if i+1 == len(years):\n",
        "        break\n",
        "    for item in masterDictionary[str(years[i])]:\n",
        "        if item[0] == 'Occupied Housing Units':\n",
        "            value1 = item[1]\n",
        "    for item in masterDictionary[str(years[i+1])]:\n",
        "        if item[0] == 'Occupied Housing Units':\n",
        "            value2 = item[1]\n",
        "    string = '{0} - {1} : {2}'.format(years[i],\n",
        "                                      years[i+1], abs(int(value2)-int(value1)))\n",
        "    print(string)\n",
        "    values.append(abs(int(value2)-int(value1)))\n",
        "values.sort()\n",
        "print(\"Values in ascending order:\",values)\n",
        "# %% calculate %occupied and %vacant\n",
        "print('year :-  vacant%   occupied%')\n",
        "for i in years:\n",
        "    for item in masterDictionary[str(i)]:\n",
        "        if item[0] == 'Total Housing Units':\n",
        "            value1 = item[1]\n",
        "        if item[0] == 'Occupied Housing Units':\n",
        "            value2 = item[1]\n",
        "        if item[0] == 'Vacant Housing Units':\n",
        "            value3 = item[1]\n",
        "    string = '{0} :- {1}  \\t\\t{2}'.format(i, round(int(value3)/int(value1)\n",
        "                                      * 100), round(int(value2)/int(value1)*100))\n",
        "    print(string)\n",
        "# %%printing year with max and min\n",
        "maxVacant = 0\n",
        "maxOccupied = 0\n",
        "maxVacantYear = 0\n",
        "maxOccupiedYear = 0\n",
        "for i in years:\n",
        "    for item in masterDictionary[str(i)]:\n",
        "        if item[0] == 'Occupied Housing Units':\n",
        "            if int(item[1]) > maxOccupied:\n",
        "                maxOccupied = int(item[1])\n",
        "                maxOccupiedYear = i\n",
        "        if item[0] == 'Vacant Housing Units':\n",
        "            if int(item[1]) > maxVacant:\n",
        "                maxVacant = int(item[1])\n",
        "                maxVacantYear = i\n",
        "print(\"                        Year     Value\")\n",
        "print(' Vacant Housing Units:   {}     {}'.format(maxOccupiedYear, maxOccupied))\n",
        "    \n",
        "print(' Occupied Housing Units: {}     {}'.format(maxVacantYear, maxVacant))\n",
        "# %% calculate harmonic mean\n",
        "hm=0\n",
        "for i in years:\n",
        "  for item in masterDictionary[str(i)]:\n",
        "    if item[0] == 'Total Housing Units':\n",
        "      hm=hm+(1/int(item[1]))\n",
        "print('harmonic mean of the total number of housing units {}'.format(len(years)/hm))\n",
        "\n"
      ]
    }
  ],
  "metadata": {
    "colab": {
      "collapsed_sections": [],
      "name": "INFO5731_Assignment_One.ipynb",
      "provenance": [],
      "include_colab_link": true
    },
    "kernelspec": {
      "display_name": "Python 3",
      "language": "python",
      "name": "python3"
    },
    "language_info": {
      "codemirror_mode": {
        "name": "ipython",
        "version": 3
      },
      "file_extension": ".py",
      "mimetype": "text/x-python",
      "name": "python",
      "nbconvert_exporter": "python",
      "pygments_lexer": "ipython3",
      "version": "3.8.5"
    }
  },
  "nbformat": 4,
  "nbformat_minor": 0
}